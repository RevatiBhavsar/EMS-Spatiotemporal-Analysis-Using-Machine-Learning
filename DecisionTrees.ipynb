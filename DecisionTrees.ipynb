{
 "cells": [
  {
   "cell_type": "code",
   "execution_count": 38,
   "id": "034b3fbe-7022-48b8-ba9f-8d2c19ccca34",
   "metadata": {},
   "outputs": [],
   "source": [
    "import pandas as pd\n",
    "import matplotlib.pyplot as plt\n",
    "import seaborn as sns\n",
    "import numpy as np\n",
    "from sklearn.preprocessing import StandardScaler, label_binarize\n",
    "from sklearn.model_selection import train_test_split\n",
    "from sklearn.preprocessing import LabelEncoder\n",
    "from statsmodels.stats.outliers_influence import variance_inflation_factor\n",
    "from sklearn.tree import DecisionTreeClassifier\n",
    "from sklearn.model_selection import GridSearchCV,StratifiedKFold\n",
    "from sklearn.metrics import accuracy_score, roc_curve, roc_auc_score, confusion_matrix, ConfusionMatrixDisplay,precision_score,r2_score, recall_score, f1_score,mean_squared_error\n",
    "import statsmodels.api as sm"
   ]
  },
  {
   "cell_type": "code",
   "execution_count": 3,
   "id": "9e7f6a64-c026-4449-99d1-88ba9d123eeb",
   "metadata": {},
   "outputs": [],
   "source": [
    "df = pd.read_csv(\"dispatch_data_updated.csv\")"
   ]
  },
  {
   "cell_type": "code",
   "execution_count": 32,
   "id": "c4bbfabb-b4d0-4f27-90a4-eeb2a27b024e",
   "metadata": {},
   "outputs": [],
   "source": [
    "df = df[['ZIPCODE', 'INITIAL_CALL_TYPE', 'POLICEPRECINCT', 'INCIDENT_RESPONSE_SECONDS_QY', 'ZIPCODE_encoded', 'CALL_TYPE_encoded', 'hour', 'day', 'month', 'day_of_week',\n",
    "         'INCIDENT_DATETIME','Nearest_Traffic_Vol','Distance_m','average_response_time']]\n",
    "\n",
    "df['response_time_bucket'] = pd.qcut(df['INCIDENT_RESPONSE_SECONDS_QY'], q=3, labels=['Fast', 'Medium', 'Slow'])\n"
   ]
  },
  {
   "cell_type": "code",
   "execution_count": 33,
   "id": "f3b717b2-a9d8-42ce-8d7f-649c3547cbcf",
   "metadata": {},
   "outputs": [],
   "source": [
    "X = df[['ZIPCODE_encoded', 'CALL_TYPE_encoded', 'hour', 'day', 'month', \n",
    "        'day_of_week', 'POLICEPRECINCT', 'average_response_time','Distance_m','Nearest_Traffic_Vol']]\n",
    "\n",
    "y = df['response_time_bucket']"
   ]
  },
  {
   "cell_type": "code",
   "execution_count": null,
   "id": "eddaa8b6-ad5c-4518-a46a-567ef1aef652",
   "metadata": {},
   "outputs": [],
   "source": []
  },
  {
   "cell_type": "code",
   "execution_count": 34,
   "id": "e54f5e66-bf0d-4898-b9e8-e435b80432f1",
   "metadata": {},
   "outputs": [
    {
     "name": "stdout",
     "output_type": "stream",
     "text": [
      "Test accuracy score 0.5\n",
      "Train accuracy score 0.52\n"
     ]
    }
   ],
   "source": [
    "cv = StratifiedKFold(n_splits=2,shuffle=True, random_state=42)\n",
    "tuned_parameters = [{\n",
    "    'max_depth': [None, 5, 10, 20, 30],\n",
    "    'min_samples_split': [2,10,20],\n",
    "    'criterion': ['gini','entropy'],\n",
    "    'splitter': ['best'],\n",
    "    'max_features': ['sqrt', 'log2']\n",
    "}]\n",
    "X_train, X_test, y_train, y_test = train_test_split(X, y, test_size=0.3, random_state=5805)\n",
    "\n",
    "pre_pruned_model = DecisionTreeClassifier(random_state=42)\n",
    "\n",
    "pre_pruned_gs = GridSearchCV(pre_pruned_model,param_grid=tuned_parameters, cv = cv,n_jobs=-1,scoring= 'accuracy')\n",
    "pre_pruned_gs.fit(X_train,y_train)\n",
    "best_params = grid_search.best_params_\n",
    "pre_pruned = pre_pruned_gs.best_estimator_\n",
    "pre_pruned_predictions = pre_pruned.predict(X_test)\n",
    "pre_pruned_train_predictions = pre_pruned.predict(X_train)\n",
    "\n",
    "print(f'Test accuracy score {round(accuracy_score(y_test,pre_pruned_predictions),2)}')\n",
    "print(f'Train accuracy score {round(accuracy_score(y_train,pre_pruned_train_predictions),2)}')\n"
   ]
  },
  {
   "cell_type": "code",
   "execution_count": 45,
   "id": "5de378aa-b8b9-4878-850c-5d7dace8c375",
   "metadata": {},
   "outputs": [
    {
     "name": "stdout",
     "output_type": "stream",
     "text": [
      "{'criterion': 'entropy', 'max_depth': 10, 'max_features': 'sqrt', 'min_samples_split': 20, 'splitter': 'best'}\n"
     ]
    }
   ],
   "source": [
    "best_params = pre_pruned_gs.best_params_\n",
    "print(best_params)"
   ]
  },
  {
   "cell_type": "code",
   "execution_count": 18,
   "id": "ab623535-3082-41bf-9423-413dff08007e",
   "metadata": {},
   "outputs": [
    {
     "name": "stdout",
     "output_type": "stream",
     "text": [
      "Counts of Each Bucket:\n",
      "response_time_bucket\n",
      "Fast      33112\n",
      "Medium    33032\n",
      "Slow      32924\n",
      "Name: count, dtype: int64\n"
     ]
    }
   ],
   "source": [
    "bucket_counts = df['response_time_bucket'].value_counts()\n",
    "\n",
    "# Display the counts\n",
    "print(\"Counts of Each Bucket:\")\n",
    "print(bucket_counts)"
   ]
  },
  {
   "cell_type": "code",
   "execution_count": null,
   "id": "53d0f7a7-8c74-4659-baa2-5a17b9b473a8",
   "metadata": {},
   "outputs": [],
   "source": []
  },
  {
   "cell_type": "code",
   "execution_count": 43,
   "id": "23a09e1a-e470-42b2-b017-6a8c0faf2993",
   "metadata": {},
   "outputs": [],
   "source": [
    "#df.to_csv('dispatch_data_updated.csv', index=False)\n",
    "\n",
    "#print(\"DataFrame saved as 'updated_incident_data.csv'\")"
   ]
  },
  {
   "cell_type": "code",
   "execution_count": null,
   "id": "ec859bf5-6366-4407-8edb-210d5bb1e080",
   "metadata": {},
   "outputs": [],
   "source": []
  },
  {
   "cell_type": "code",
   "execution_count": null,
   "id": "4e426395-b62c-4f34-88c6-778983b8b8ab",
   "metadata": {},
   "outputs": [],
   "source": []
  },
  {
   "cell_type": "code",
   "execution_count": null,
   "id": "2d485c5f-3f72-413f-b8f6-61fc375e6b0d",
   "metadata": {},
   "outputs": [],
   "source": []
  }
 ],
 "metadata": {
  "kernelspec": {
   "display_name": "Python 3 (ipykernel)",
   "language": "python",
   "name": "python3"
  },
  "language_info": {
   "codemirror_mode": {
    "name": "ipython",
    "version": 3
   },
   "file_extension": ".py",
   "mimetype": "text/x-python",
   "name": "python",
   "nbconvert_exporter": "python",
   "pygments_lexer": "ipython3",
   "version": "3.9.18"
  }
 },
 "nbformat": 4,
 "nbformat_minor": 5
}
