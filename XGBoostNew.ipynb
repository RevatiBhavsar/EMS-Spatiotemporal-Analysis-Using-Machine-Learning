{
 "cells": [
  {
   "cell_type": "code",
   "execution_count": 1,
   "id": "e6b207d8-83cf-4332-bf9f-9f67688d5213",
   "metadata": {},
   "outputs": [],
   "source": [
    "import pandas as pd\n",
    "import numpy as np\n",
    "import tensorflow as tf\n",
    "from sklearn.preprocessing import MinMaxScaler\n",
    "from sklearn.metrics import mean_squared_error, mean_absolute_error, r2_score\n",
    "from tensorflow.keras.models import Sequential\n",
    "from tensorflow.keras.layers import LSTM, Dense, Embedding, Dropout, Concatenate, Input,Flatten\n",
    "from tensorflow.keras.models import Model\n",
    "from sklearn.preprocessing import LabelEncoder, MinMaxScaler\n",
    "from statsmodels.tsa.seasonal import seasonal_decompose\n",
    "from statsmodels.tsa.arima.model import ARIMA\n",
    "from sklearn.model_selection import train_test_split\n",
    "import matplotlib.pyplot as plt\n",
    "import tensorflow.keras.backend as K\n",
    "from tensorflow.keras.optimizers import Adam\n",
    "from tensorflow.keras.constraints import MaxNorm\n",
    "import seaborn as sns\n",
    "from sklearn.ensemble import RandomForestRegressor\n",
    "from statsmodels.tsa.stattools import adfuller"
   ]
  },
  {
   "cell_type": "code",
   "execution_count": 56,
   "id": "a41ea817-2e8b-4771-b46f-43a699d2b8b2",
   "metadata": {},
   "outputs": [],
   "source": [
    "import xgboost as xgb"
   ]
  },
  {
   "cell_type": "code",
   "execution_count": 68,
   "id": "131e4b34-3ebb-497c-a878-bff453743b11",
   "metadata": {},
   "outputs": [],
   "source": [
    "df = pd.read_csv('dispatch_data_updated.csv')"
   ]
  },
  {
   "cell_type": "code",
   "execution_count": 69,
   "id": "341dbe3d-2f6e-4e10-b482-0b2b4a647129",
   "metadata": {},
   "outputs": [],
   "source": [
    "df = df[['ZIPCODE', 'INITIAL_CALL_TYPE', 'POLICEPRECINCT', 'INCIDENT_RESPONSE_SECONDS_QY', \n",
    "         'INCIDENT_DATETIME','Nearest_Traffic_Vol','Distance_m']]"
   ]
  },
  {
   "cell_type": "code",
   "execution_count": 70,
   "id": "563d6d4c-e988-4a5d-b667-9c5c5812d6d9",
   "metadata": {},
   "outputs": [],
   "source": [
    "zipcode_encoder = LabelEncoder()\n",
    "call_type_encoder = LabelEncoder()\n",
    "borough_encoder = LabelEncoder()\n",
    "precinct_encoder = LabelEncoder()\n",
    "df['PRECINCT_encoded'] = precinct_encoder.fit_transform(df['POLICEPRECINCT'].astype(str))\n",
    "df['ZIPCODE_encoded'] = zipcode_encoder.fit_transform(df['ZIPCODE'].astype(str))\n",
    "df['CALL_TYPE_encoded'] = call_type_encoder.fit_transform(df['INITIAL_CALL_TYPE'].astype(str))"
   ]
  },
  {
   "cell_type": "code",
   "execution_count": 71,
   "id": "960a3bc4-b30d-4e8b-a472-765f67cc0b82",
   "metadata": {},
   "outputs": [],
   "source": [
    "df['INCIDENT_DATETIME'] = pd.to_datetime(df['INCIDENT_DATETIME'])\n",
    "df['hour'] = df['INCIDENT_DATETIME'].dt.hour\n",
    "df['day'] = df['INCIDENT_DATETIME'].dt.day\n",
    "df['month'] = df['INCIDENT_DATETIME'].dt.month\n",
    "df['day_of_week'] = df['INCIDENT_DATETIME'].dt.dayofweek"
   ]
  },
  {
   "cell_type": "code",
   "execution_count": 72,
   "id": "4c9736ad-d992-4460-a1fe-3fda553574b6",
   "metadata": {},
   "outputs": [],
   "source": [
    "zipcode_avg_response = df.groupby('ZIPCODE')['INCIDENT_RESPONSE_SECONDS_QY'].mean().reset_index()\n",
    "zipcode_avg_response.rename(columns={'INCIDENT_RESPONSE_SECONDS_QY': 'average_response_time'}, inplace=True)\n",
    "\n",
    "# Merge the average response time back to the main dataset\n",
    "df = pd.merge(df, zipcode_avg_response[['ZIPCODE', 'average_response_time']], on='ZIPCODE', how='left')"
   ]
  },
  {
   "cell_type": "code",
   "execution_count": null,
   "id": "7706ca26-c350-459d-8767-88a2ec8ddd38",
   "metadata": {},
   "outputs": [],
   "source": []
  },
  {
   "cell_type": "code",
   "execution_count": 73,
   "id": "6034d141-355c-4994-8c52-98cc73f66654",
   "metadata": {},
   "outputs": [
    {
     "data": {
      "text/html": [
       "<div>\n",
       "<style scoped>\n",
       "    .dataframe tbody tr th:only-of-type {\n",
       "        vertical-align: middle;\n",
       "    }\n",
       "\n",
       "    .dataframe tbody tr th {\n",
       "        vertical-align: top;\n",
       "    }\n",
       "\n",
       "    .dataframe thead th {\n",
       "        text-align: right;\n",
       "    }\n",
       "</style>\n",
       "<table border=\"1\" class=\"dataframe\">\n",
       "  <thead>\n",
       "    <tr style=\"text-align: right;\">\n",
       "      <th></th>\n",
       "      <th>ZIPCODE</th>\n",
       "      <th>INITIAL_CALL_TYPE</th>\n",
       "      <th>POLICEPRECINCT</th>\n",
       "      <th>INCIDENT_RESPONSE_SECONDS_QY</th>\n",
       "      <th>INCIDENT_DATETIME</th>\n",
       "      <th>Nearest_Traffic_Vol</th>\n",
       "      <th>Distance_m</th>\n",
       "      <th>PRECINCT_encoded</th>\n",
       "      <th>ZIPCODE_encoded</th>\n",
       "      <th>CALL_TYPE_encoded</th>\n",
       "      <th>hour</th>\n",
       "      <th>day</th>\n",
       "      <th>month</th>\n",
       "      <th>day_of_week</th>\n",
       "      <th>average_response_time</th>\n",
       "    </tr>\n",
       "  </thead>\n",
       "  <tbody>\n",
       "    <tr>\n",
       "      <th>0</th>\n",
       "      <td>10306.0</td>\n",
       "      <td>CVAC</td>\n",
       "      <td>122.0</td>\n",
       "      <td>329.0</td>\n",
       "      <td>2016-11-17 13:23:36</td>\n",
       "      <td>11.0</td>\n",
       "      <td>719.542681</td>\n",
       "      <td>20</td>\n",
       "      <td>46</td>\n",
       "      <td>31</td>\n",
       "      <td>13</td>\n",
       "      <td>17</td>\n",
       "      <td>11</td>\n",
       "      <td>3</td>\n",
       "      <td>447.597523</td>\n",
       "    </tr>\n",
       "    <tr>\n",
       "      <th>1</th>\n",
       "      <td>11434.0</td>\n",
       "      <td>DIFFBR</td>\n",
       "      <td>113.0</td>\n",
       "      <td>510.0</td>\n",
       "      <td>2012-04-23 09:38:42</td>\n",
       "      <td>32.0</td>\n",
       "      <td>640.678352</td>\n",
       "      <td>15</td>\n",
       "      <td>168</td>\n",
       "      <td>34</td>\n",
       "      <td>9</td>\n",
       "      <td>23</td>\n",
       "      <td>4</td>\n",
       "      <td>0</td>\n",
       "      <td>539.729332</td>\n",
       "    </tr>\n",
       "    <tr>\n",
       "      <th>2</th>\n",
       "      <td>11205.0</td>\n",
       "      <td>SICK</td>\n",
       "      <td>88.0</td>\n",
       "      <td>230.0</td>\n",
       "      <td>2012-04-22 15:53:38</td>\n",
       "      <td>649.0</td>\n",
       "      <td>86.818935</td>\n",
       "      <td>73</td>\n",
       "      <td>89</td>\n",
       "      <td>91</td>\n",
       "      <td>15</td>\n",
       "      <td>22</td>\n",
       "      <td>4</td>\n",
       "      <td>6</td>\n",
       "      <td>462.810881</td>\n",
       "    </tr>\n",
       "    <tr>\n",
       "      <th>3</th>\n",
       "      <td>10314.0</td>\n",
       "      <td>ALTMEN</td>\n",
       "      <td>121.0</td>\n",
       "      <td>322.0</td>\n",
       "      <td>2020-12-22 10:45:37</td>\n",
       "      <td>133.0</td>\n",
       "      <td>427.442315</td>\n",
       "      <td>19</td>\n",
       "      <td>52</td>\n",
       "      <td>3</td>\n",
       "      <td>10</td>\n",
       "      <td>22</td>\n",
       "      <td>12</td>\n",
       "      <td>1</td>\n",
       "      <td>466.060138</td>\n",
       "    </tr>\n",
       "    <tr>\n",
       "      <th>4</th>\n",
       "      <td>11426.0</td>\n",
       "      <td>EDP</td>\n",
       "      <td>105.0</td>\n",
       "      <td>474.0</td>\n",
       "      <td>2008-05-09 09:21:50</td>\n",
       "      <td>55.0</td>\n",
       "      <td>281.350053</td>\n",
       "      <td>7</td>\n",
       "      <td>161</td>\n",
       "      <td>40</td>\n",
       "      <td>9</td>\n",
       "      <td>9</td>\n",
       "      <td>5</td>\n",
       "      <td>4</td>\n",
       "      <td>459.363636</td>\n",
       "    </tr>\n",
       "  </tbody>\n",
       "</table>\n",
       "</div>"
      ],
      "text/plain": [
       "   ZIPCODE INITIAL_CALL_TYPE  POLICEPRECINCT  INCIDENT_RESPONSE_SECONDS_QY  \\\n",
       "0  10306.0              CVAC           122.0                         329.0   \n",
       "1  11434.0            DIFFBR           113.0                         510.0   \n",
       "2  11205.0              SICK            88.0                         230.0   \n",
       "3  10314.0            ALTMEN           121.0                         322.0   \n",
       "4  11426.0               EDP           105.0                         474.0   \n",
       "\n",
       "    INCIDENT_DATETIME  Nearest_Traffic_Vol  Distance_m  PRECINCT_encoded  \\\n",
       "0 2016-11-17 13:23:36                 11.0  719.542681                20   \n",
       "1 2012-04-23 09:38:42                 32.0  640.678352                15   \n",
       "2 2012-04-22 15:53:38                649.0   86.818935                73   \n",
       "3 2020-12-22 10:45:37                133.0  427.442315                19   \n",
       "4 2008-05-09 09:21:50                 55.0  281.350053                 7   \n",
       "\n",
       "   ZIPCODE_encoded  CALL_TYPE_encoded  hour  day  month  day_of_week  \\\n",
       "0               46                 31    13   17     11            3   \n",
       "1              168                 34     9   23      4            0   \n",
       "2               89                 91    15   22      4            6   \n",
       "3               52                  3    10   22     12            1   \n",
       "4              161                 40     9    9      5            4   \n",
       "\n",
       "   average_response_time  \n",
       "0             447.597523  \n",
       "1             539.729332  \n",
       "2             462.810881  \n",
       "3             466.060138  \n",
       "4             459.363636  "
      ]
     },
     "execution_count": 73,
     "metadata": {},
     "output_type": "execute_result"
    }
   ],
   "source": [
    "df.head()"
   ]
  },
  {
   "cell_type": "code",
   "execution_count": null,
   "id": "f67b8578-8246-4bd2-bdbe-b0c2aa9557fc",
   "metadata": {},
   "outputs": [],
   "source": []
  },
  {
   "cell_type": "code",
   "execution_count": null,
   "id": "c1b35bb6-6d95-4d70-83ba-41f9238f528b",
   "metadata": {},
   "outputs": [],
   "source": []
  },
  {
   "cell_type": "code",
   "execution_count": 74,
   "id": "434e486f-ac2c-4971-bec7-e566945f2993",
   "metadata": {},
   "outputs": [],
   "source": [
    "X = df[['ZIPCODE_encoded', 'CALL_TYPE_encoded', 'hour', 'day', 'month', \n",
    "        'day_of_week', 'POLICEPRECINCT', 'average_response_time','Distance_m','Nearest_Traffic_Vol']]\n",
    "\n",
    "# Define target variable\n",
    "y = df['INCIDENT_RESPONSE_SECONDS_QY']"
   ]
  },
  {
   "cell_type": "code",
   "execution_count": 75,
   "id": "364d4fa4-8998-405c-baf0-a59c36e855f5",
   "metadata": {},
   "outputs": [],
   "source": [
    "X_train, X_test, y_train, y_test = train_test_split(X, y, test_size=0.2, random_state=42)\n",
    "\n",
    "# Create DMatrix for training and testing\n",
    "dtrain = xgb.DMatrix(X_train, label=y_train)\n",
    "dtest = xgb.DMatrix(X_test, label=y_test)"
   ]
  },
  {
   "cell_type": "code",
   "execution_count": 76,
   "id": "b51df889-98c9-41b4-82ec-21b409b54b88",
   "metadata": {},
   "outputs": [],
   "source": [
    "params = {\n",
    "    'objective': 'reg:squarederror',  \n",
    "    'eval_metric': 'rmse',\n",
    "    'max_depth': 6,\n",
    "    'eta': 0.1,                 \n",
    "    'subsample': 0.8,          \n",
    "    'colsample_bytree': 0.8\n",
    "}"
   ]
  },
  {
   "cell_type": "code",
   "execution_count": 77,
   "id": "f97908ec-a72b-4a86-91a1-ec19c825deab",
   "metadata": {},
   "outputs": [],
   "source": [
    "num_boost_round = 100  # Number of boosting rounds\n",
    "model = xgb.train(params, dtrain, num_boost_round=num_boost_round)"
   ]
  },
  {
   "cell_type": "code",
   "execution_count": 83,
   "id": "c0a67944-7c7d-402a-a390-0b487dcb9c11",
   "metadata": {},
   "outputs": [
    {
     "name": "stdout",
     "output_type": "stream",
     "text": [
      "Root Mean Squared Error (RMSE): 243.9542447893702\n",
      "R-squared (R²): 0.7575501446692506\n"
     ]
    }
   ],
   "source": [
    "y_pred = model.predict(dtest)\n",
    "\n",
    "# Evaluate the model\n",
    "mse = mean_squared_error(y_test, y_pred)\n",
    "r2 = r2_score(y_test, y_pred)\n",
    "\n",
    "print(f\"Root Mean Squared Error (RMSE): {np.sqrt(mse)}\")\n",
    "print(f\"R-squared (R²): {r2}\")"
   ]
  },
  {
   "cell_type": "code",
   "execution_count": 84,
   "id": "d7c35ae0-8180-4971-9fb6-ccb244a4641e",
   "metadata": {},
   "outputs": [
    {
     "name": "stdout",
     "output_type": "stream",
     "text": [
      "Mean Absolute Error (MAE): 154.08577593985052\n"
     ]
    }
   ],
   "source": [
    "mae = mean_absolute_error(y_test, y_pred)\n",
    "\n",
    "print(f\"Mean Absolute Error (MAE): {mae}\")"
   ]
  },
  {
   "cell_type": "code",
   "execution_count": 81,
   "id": "fbc511e3-121b-4a87-8abf-449b03d23d07",
   "metadata": {},
   "outputs": [],
   "source": [
    "#df.to_csv('dispatch_data_updated.csv', index=False)\n",
    "\n",
    "#print(\"DataFrame saved as 'updated_incident_data.csv'\")"
   ]
  },
  {
   "cell_type": "code",
   "execution_count": null,
   "id": "c7c938c0-9401-4e0d-99e3-a0516cf088ec",
   "metadata": {},
   "outputs": [],
   "source": []
  },
  {
   "cell_type": "code",
   "execution_count": null,
   "id": "282169d1-f258-49b0-aff6-b5287491ee93",
   "metadata": {},
   "outputs": [],
   "source": []
  },
  {
   "cell_type": "code",
   "execution_count": null,
   "id": "bbf3c08c-f047-4960-a560-c6acc859d8b9",
   "metadata": {},
   "outputs": [],
   "source": []
  }
 ],
 "metadata": {
  "kernelspec": {
   "display_name": "Python 3 (ipykernel)",
   "language": "python",
   "name": "python3"
  },
  "language_info": {
   "codemirror_mode": {
    "name": "ipython",
    "version": 3
   },
   "file_extension": ".py",
   "mimetype": "text/x-python",
   "name": "python",
   "nbconvert_exporter": "python",
   "pygments_lexer": "ipython3",
   "version": "3.9.18"
  }
 },
 "nbformat": 4,
 "nbformat_minor": 5
}
